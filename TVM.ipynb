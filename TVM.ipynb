import numpy as np

def tvm_fv(pv,i,n,t):
    fv=pv*(1+i/n)**(n*t)
    return fv;    

def tvm_pv(fv,i,n,t):
    pv=(fv)/(1+i/n)**(n*t)   
    return pv;   

def tvm_i(fv,pv,n,t):
    i=n*((fv/pv)**(1/(n*t))-1)    
    return i*100;

def tvm_t(fv,pv,i,n):
    t=(np.log(fv/pv)/(n*(np.log(1+i/n))))  
    return t;     
     
     
     option=int(input("Enter the value that needs to be calculated - 1.Present value. 2.Future value. 3.Annual interest rate. 4.time period"))

if(option==1):
    fv=float(input("enter the future value"))
    i=float(input("enter the rate of interest in percentage"))
    i=float(i/100)
    n=float(input("enter the compounding rate : 1 for yearly, 2 for half yearly ,4 for quarterly and so on..:" ))
    t=float(input("enter the time period (number of years) :"))
    answer=tvm_pv(fv,i,n,t)
    print("Present value is :",float(answer) )
elif option==2 :
    pv=float(input("enter the present value"))
    i=float(input("enter the rate of interest in percentage"))
    i=float(i/100)
    n=float(input("enter the compounding rate : 1 for yearly, 2 for half yearly ,4 for quarterly and so on..:" ))
    t=float(input("enter the time period (number of years) :"))
    answer=tvm_fv(pv,i,n,t)
    print("future value is :",float(answer) )
elif option==3 :
    pv=float(input("enter the present value"))
    fv=float(input("enter the future value"))
    n=float(input("enter the compounding rate : 1 for yearly, 2 for half yearly ,4 for quarterly and so on..:" ))
    t=float(input("enter the time period (number of years) :"))
    answer=tvm_i(fv,pv,n,t)
    print("Annual interest rate is :",float(answer),"%" )
elif option==4 :
    pv=float(input("enter the present value"))
    fv=float(input("enter the future value"))
    i=float(input("enter the rate of interest in percentage"))
    i=float(i/100)
    n=float(input("enter the compounding rate : 1 for yearly, 2 for half yearly ,4 for quarterly and so on..:" ))
    answer=tvm_t(fv,pv,i,n)
    print("Time period is :",float(answer) )
else:
    print("you have entered an invalid option")


