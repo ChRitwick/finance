{
 "cells": [
  {
   "cell_type": "markdown",
   "id": "c35c7e51",
   "metadata": {},
   "source": [
    "# Time Value Money"
   ]
  },
  {
   "cell_type": "code",
   "execution_count": 12,
   "id": "dfd15415",
   "metadata": {},
   "outputs": [],
   "source": [
    "import numpy as np\n",
    "\n",
    "def tvm_fv(pv,i,n,t):\n",
    "    fv=pv*(1+i/n)**(n*t)\n",
    "    return fv;    \n",
    "\n",
    "def tvm_pv(fv,i,n,t):\n",
    "    pv=(fv)/(1+i/n)**(n*t)   \n",
    "    return pv;   \n",
    "\n",
    "def tvm_i(fv,pv,n,t):\n",
    "    i=n*((fv/pv)**(1/(n*t))-1)    \n",
    "    return i*100;\n",
    "\n",
    "def tvm_t(fv,pv,i,n):\n",
    "    t=(np.log(fv/pv)/(n*(np.log(1+i/n))))  \n",
    "    return t;     \n",
    "     "
   ]
  },
  {
   "cell_type": "code",
   "execution_count": 25,
   "id": "0be65a10",
   "metadata": {},
   "outputs": [
    {
     "name": "stdout",
     "output_type": "stream",
     "text": [
      "Enter the value that needs to be calculated - 1.Present value. 2.Future value. 3.Annual interest rate. 4.time period4\n",
      "enter the present value8000\n",
      "enter the future value95000\n",
      "enter the rate of interest in percentage12\n",
      "enter the compounding rate : 1 for yearly, 2 for half yearly ,4 for quarterly and so on..:1\n",
      "Time period is : 21.8341485495711\n"
     ]
    }
   ],
   "source": [
    "option=int(input(\"Enter the value that needs to be calculated - 1.Present value. 2.Future value. 3.Annual interest rate. 4.time period\"))\n",
    "\n",
    "if(option==1):\n",
    "    fv=float(input(\"enter the future value\"))\n",
    "    i=float(input(\"enter the rate of interest in percentage\"))\n",
    "    i=float(i/100)\n",
    "    n=float(input(\"enter the compounding rate : 1 for yearly, 2 for half yearly ,4 for quarterly and so on..:\" ))\n",
    "    t=float(input(\"enter the time period (number of years) :\"))\n",
    "    answer=tvm_pv(fv,i,n,t)\n",
    "    print(\"Present value is :\",float(answer) )\n",
    "elif option==2 :\n",
    "    pv=float(input(\"enter the present value\"))\n",
    "    i=float(input(\"enter the rate of interest in percentage\"))\n",
    "    i=float(i/100)\n",
    "    n=float(input(\"enter the compounding rate : 1 for yearly, 2 for half yearly ,4 for quarterly and so on..:\" ))\n",
    "    t=float(input(\"enter the time period (number of years) :\"))\n",
    "    answer=tvm_fv(pv,i,n,t)\n",
    "    print(\"future value is :\",float(answer) )\n",
    "elif option==3 :\n",
    "    pv=float(input(\"enter the present value\"))\n",
    "    fv=float(input(\"enter the future value\"))\n",
    "    n=float(input(\"enter the compounding rate : 1 for yearly, 2 for half yearly ,4 for quarterly and so on..:\" ))\n",
    "    t=float(input(\"enter the time period (number of years) :\"))\n",
    "    answer=tvm_i(fv,pv,n,t)\n",
    "    print(\"Annual interest rate is :\",float(answer),\"%\" )\n",
    "elif option==4 :\n",
    "    pv=float(input(\"enter the present value\"))\n",
    "    fv=float(input(\"enter the future value\"))\n",
    "    i=float(input(\"enter the rate of interest in percentage\"))\n",
    "    i=float(i/100)\n",
    "    n=float(input(\"enter the compounding rate : 1 for yearly, 2 for half yearly ,4 for quarterly and so on..:\" ))\n",
    "    answer=tvm_t(fv,pv,i,n)\n",
    "    print(\"Time period is :\",float(answer) )\n",
    "else:\n",
    "    print(\"you have entered an invalid option\")\n",
    "\n",
    "\n"
   ]
  }
 ],
 "metadata": {
  "kernelspec": {
   "display_name": "Python 3 (ipykernel)",
   "language": "python",
   "name": "python3"
  },
  "language_info": {
   "codemirror_mode": {
    "name": "ipython",
    "version": 3
   },
   "file_extension": ".py",
   "mimetype": "text/x-python",
   "name": "python",
   "nbconvert_exporter": "python",
   "pygments_lexer": "ipython3",
   "version": "3.9.12"
  }
 },
 "nbformat": 4,
 "nbformat_minor": 5
}
